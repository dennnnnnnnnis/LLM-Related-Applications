{
 "cells": [
  {
   "cell_type": "markdown",
   "metadata": {},
   "source": [
    "# Language Modelling in Hangman"
   ]
  },
  {
   "cell_type": "markdown",
   "metadata": {},
   "source": [
    "# Overview\n",
    "\n",
    "You'll be creating an 'artificial intelligence' player for the classic Hangman word guessing game. You will need to implement several different automatic strategies based on character-level n-gram language models. Your objective is to create an automatic player which makes the fewest mistakes."
   ]
  },
  {
   "cell_type": "markdown",
   "metadata": {},
   "source": [
    "# The Hangman Game"
   ]
  },
  {
   "cell_type": "markdown",
   "metadata": {},
   "source": [
    "**Instructions**: The <a href=\"https://en.wikipedia.org/wiki/Hangman_(game)\">Hangman game</a> is a simple game whereby one person thinks of a word, which they keep secret from their opponent, who tries to guess the word one character at a time. The game ends when the opponent makes more than a fixed number of incorrect guesses, or they figure out the secret word before then (in which case they *win*). \n",
    "\n",
    "Here's a simple version of the game. **No implementation is needed.**"
   ]
  },
  {
   "cell_type": "code",
   "execution_count": 21,
   "metadata": {},
   "outputs": [],
   "source": [
    "def hangman(secret_word, guesser, max_mistakes=8, verbose=True, **guesser_args):\n",
    "    \"\"\"\n",
    "        This function plays the hangman game with the provided guesser and returns the number of incorrect guesses. \n",
    "        \n",
    "        secret_word: a string of lower-case alphabetic characters, i.e., the answer to the game\n",
    "        guesser: a function which guesses the next character at each stage in the game\n",
    "            The function takes a:\n",
    "                mask: what is known of the word, as a string with _ denoting an unknown character\n",
    "                guessed: the set of characters which already been guessed in the game\n",
    "                guesser_args: additional (optional) keyword arguments, i.e., name=value\n",
    "        max_mistakes: limit on length of game, in terms of number of allowed mistakes\n",
    "        verbose: silent or verbose diagnostic prints\n",
    "        guesser_args: keyword arguments to pass directly to the guesser function\n",
    "    \"\"\"\n",
    "    secret_word = secret_word.lower()\n",
    "    mask = ['_'] * len(secret_word)\n",
    "    guessed = set()\n",
    "    if verbose:\n",
    "        print(\"Starting hangman game. Target is\", ' '.join(mask), 'length', len(secret_word))\n",
    "    \n",
    "    mistakes = 0\n",
    "    while mistakes < max_mistakes:\n",
    "        if verbose:\n",
    "            print(\"You have\", (max_mistakes-mistakes), \"attempts remaining.\")\n",
    "        guess = guesser(mask, guessed, **guesser_args)\n",
    "\n",
    "        if verbose:\n",
    "            print('Guess is', guess)\n",
    "        if guess in guessed:\n",
    "            if verbose:\n",
    "                print('Already guessed this before.')\n",
    "            mistakes += 1\n",
    "        else:\n",
    "            guessed.add(guess)\n",
    "            if guess in secret_word and len(guess) == 1:\n",
    "                for i, c in enumerate(secret_word):\n",
    "                    if c == guess:\n",
    "                        mask[i] = c\n",
    "                if verbose:\n",
    "                    print('Good guess:', ' '.join(mask))\n",
    "            else:\n",
    "                if len(guess) != 1:\n",
    "                    print('Please guess with only 1 character.')\n",
    "                if verbose:\n",
    "                    print('Sorry, try again.')\n",
    "                mistakes += 1\n",
    "                \n",
    "        if '_' not in mask:\n",
    "            if verbose:\n",
    "                print('Congratulations, you won.')\n",
    "            return mistakes\n",
    "        \n",
    "    if verbose:\n",
    "        print('Out of guesses. The word was', secret_word)    \n",
    "    return mistakes"
   ]
  },
  {
   "cell_type": "markdown",
   "metadata": {},
   "source": [
    "Here is a human guesser allowing interactive play."
   ]
  },
  {
   "cell_type": "code",
   "execution_count": 22,
   "metadata": {},
   "outputs": [],
   "source": [
    "def human(mask, guessed, **kwargs):\n",
    "    \"\"\"\n",
    "    This is a simple function for manual play.\n",
    "    \"\"\"\n",
    "    print('\\nEnter your guess:')\n",
    "    return input().lower().strip()"
   ]
  },
  {
   "cell_type": "markdown",
   "metadata": {},
   "source": [
    "If you want to play hangman interactively, please set `interactive` to `True`."
   ]
  },
  {
   "cell_type": "code",
   "execution_count": 23,
   "metadata": {},
   "outputs": [],
   "source": [
    "interactive = False"
   ]
  },
  {
   "cell_type": "markdown",
   "metadata": {},
   "source": [
    "<b>For your testing:</b>\n",
    "\n",
    "You can play the game interactively using the following command:"
   ]
  },
  {
   "cell_type": "code",
   "execution_count": 24,
   "metadata": {},
   "outputs": [],
   "source": [
    "if interactive:\n",
    "    hangman('whatever', human, 8, True)"
   ]
  },
  {
   "cell_type": "markdown",
   "metadata": {
    "collapsed": true,
    "jupyter": {
     "outputs_hidden": true
    }
   },
   "source": [
    "### Question 1\n",
    "\n",
    "**Instructions**: We will use the words in NLTK's Brown corpus for training an artificial intelligence guessing algorithm, and for evaluating the quality of the algorithm.\n",
    "\n",
    "Your first task is to compute the number of **unique word types** occurring in the Brown corpus, using `nltk.corpus.brown` and the `words` method, and select only words that are **entirely comprised of alphabetic characters**. You should also **lowercase the words**. Finally, randomly shuffle (`numpy.random.shuffle`) this collection of word types, and split them into disjoint training and testing sets. The test set should contain 1000 word types, and the rest should be in the  training set. Note that we are intentionally making the hangman game hard, as the AI will need to cope with test words that it has not seen before, hence it will need to learn generalisable patterns of characters to make reasonable predictions.\n",
    "\n",
    "**Task**: Collect all unique word types from the Brown corpus, and produce `training_set` and `test_set`, 2 lists that contain 2 disjointed sets of words. Both `training_set` and `test_set` should be a python `list` (as initialised in the code). `test_set` must contain exactly 1000 word types.\n",
    "\n",
    "**Check**: Use the assertion statements in <b>\"For your testing\"</b> below for the expected output."
   ]
  },
  {
   "cell_type": "code",
   "execution_count": 47,
   "metadata": {},
   "outputs": [
    {
     "name": "stderr",
     "output_type": "stream",
     "text": [
      "[nltk_data] Downloading package brown to /Users/wangzeyu/nltk_data...\n",
      "[nltk_data]   Package brown is already up-to-date!\n"
     ]
    },
    {
     "name": "stdout",
     "output_type": "stream",
     "text": [
      "Number of word types in test = 1000\n",
      "Number of word types in train = 39234\n"
     ]
    }
   ],
   "source": [
    "import nltk\n",
    "from nltk.corpus import brown\n",
    "import numpy as np\n",
    "\n",
    "nltk.download('brown')\n",
    "np.random.seed(60)\n",
    "\n",
    "# training_set stores the rest word types for training\n",
    "training_set = []\n",
    "# test_set stores 1000 word types for testing\n",
    "test_set = []\n",
    "\n",
    "\n",
    "###\n",
    "# Your answer BEGINS HERE\n",
    "###\n",
    "corpus = brown.words()\n",
    "# lower the word first\n",
    "lower_corpus = [word.lower() for word in corpus]\n",
    "# get the set of unique word types\n",
    "unique_corpus = list(set(lower_corpus))\n",
    "# words entirely comprised of alphabetic characters\n",
    "alpha_corpus = [word for word in unique_corpus if word.isalpha()]\n",
    "# random shuffle the list\n",
    "np.random.shuffle(alpha_corpus)\n",
    "test_set = alpha_corpus[:1000]\n",
    "training_set = alpha_corpus[1000:]\n",
    "###\n",
    "# Your answer ENDS HERE\n",
    "###\n",
    "\n",
    "print(\"Number of word types in test =\", len(test_set))\n",
    "print(\"Number of word types in train =\", len(training_set))"
   ]
  },
  {
   "cell_type": "markdown",
   "metadata": {},
   "source": [
    "<b>For your testing:</b>"
   ]
  },
  {
   "cell_type": "code",
   "execution_count": 26,
   "metadata": {},
   "outputs": [],
   "source": [
    "assert(len(training_set) > 35000 and len(training_set) < 45000)\n",
    "assert(len(test_set) == 1000)"
   ]
  },
  {
   "cell_type": "markdown",
   "metadata": {},
   "source": [
    "**Play the game**:\n",
    "\n",
    "Let's see how good you are at this game! Try to guess a random word from the test set. It is surprisingly difficult (and addictive)! Don't forget to set `interactive = True`."
   ]
  },
  {
   "cell_type": "code",
   "execution_count": 27,
   "metadata": {},
   "outputs": [],
   "source": [
    "#play hangman using random words from test set\n",
    "if interactive:\n",
    "    hangman(np.random.choice(test_set), human, 8, True)"
   ]
  },
  {
   "cell_type": "markdown",
   "metadata": {},
   "source": [
    "### Question 2\n",
    "\n",
    "**Instructions**: To set a baseline, your first AI attempt will be a trivial **random method**. For this you should implement a guessing method, similar to the `human` method above, i.e., using the same input arguments and returning a character. Your method should randomly choose a character from the range `a ... z` after excluding the characters that have already been guessed in the current game (all subsequent AI approaches should also exclude previous guesses).\n",
    "\n",
    "To help you measure the performance of this (and later) guesser, a `test_guesser` method that takes a guesser and measures the average number of incorrect guesses made over all the words in the `test` is provided to you. \n",
    "\n",
    "**Task**: Complete the `random_guesser` method. It should return a random character from the English alphabets.\n",
    "\n",
    "**Check**: Use the assertion statements in <b>\"For your testing\"</b> below for the expected output."
   ]
  },
  {
   "cell_type": "code",
   "execution_count": 28,
   "metadata": {},
   "outputs": [],
   "source": [
    "def test_guesser(guesser, test):\n",
    "    \"\"\"\n",
    "        This function takes a guesser and measures the average number of incorrect guesses made over all the words in the test_set. \n",
    "    \"\"\"\n",
    "    total = 0\n",
    "    for word in test:\n",
    "        total += hangman(word, guesser, 26, False)\n",
    "    return total / float(len(test))"
   ]
  },
  {
   "cell_type": "code",
   "execution_count": 29,
   "metadata": {},
   "outputs": [
    {
     "name": "stdout",
     "output_type": "stream",
     "text": [
      "Guessing word = dexedrine\n",
      "Number of mistakes made by the random guesser = 19\n",
      "\n",
      "Testing the random guesser using every word in test set\n",
      "Average number of incorrect guesses:  16.726\n"
     ]
    }
   ],
   "source": [
    "import string\n",
    "import random\n",
    "\n",
    "def random_guesser(mask, guessed, **kwargs):\n",
    "    \n",
    "    ###\n",
    "    # Your answer BEGINS HERE\n",
    "    ###\n",
    "    # a list of alphabetic characters from a-z\n",
    "    alphabet_list = list(string.ascii_lowercase)\n",
    "    while True:\n",
    "        # randomly choose a character, if not in guessed characters, return the character\n",
    "        random_character = random.choice(alphabet_list)\n",
    "        if random_character not in guessed:   \n",
    "            return random_character.strip()\n",
    "    ###\n",
    "    # Your answer ENDS HERE\n",
    "    ###\n",
    "\n",
    "random_word = np.random.choice(test_set)\n",
    "print(\"Guessing word =\", random_word)\n",
    "print(\"Number of mistakes made by the random guesser =\", hangman(random_word, random_guesser, 26, False))\n",
    "\n",
    "result = test_guesser(random_guesser, test_set)\n",
    "print(\"\\nTesting the random guesser using every word in test set\")\n",
    "print(\"Average number of incorrect guesses: \", result)"
   ]
  },
  {
   "cell_type": "markdown",
   "metadata": {},
   "source": [
    "<b>For your testing:</b>"
   ]
  },
  {
   "cell_type": "code",
   "execution_count": 30,
   "metadata": {},
   "outputs": [],
   "source": [
    "assert(result > 10 and result < 20)"
   ]
  },
  {
   "cell_type": "markdown",
   "metadata": {},
   "source": [
    "### Question 3\n",
    "\n",
    "**Instructions:** As your first real AI, you should train a **unigram language model** over the training set. This requires you to find the frequencies of characters over all training words. Using this model, you should write a guesser that returns the character with the highest probability. Remember to exclude already guessed characters. \n",
    "\n",
    "**Task**: Collect the frequencies of characters and store them in `unigram_counts` (use the first answer space). Complete the `unigram_guesser` method (use the second answer space). Note that it takes `unigram_counts` as an additional argument.\n",
    "\n",
    "**Check**: Use the assertion statements in <b>\"For your testing\"</b> below for the expected output."
   ]
  },
  {
   "cell_type": "code",
   "execution_count": 31,
   "metadata": {},
   "outputs": [
    {
     "name": "stdout",
     "output_type": "stream",
     "text": [
      "Testing the unigram guesser using every word in test set\n",
      "Average number of incorrect guesses:  10.394\n"
     ]
    }
   ],
   "source": [
    "unigram_counts = {}\n",
    "\n",
    "###\n",
    "# Your answer BEGINS HERE\n",
    "###\n",
    "alphabet_list = list(string.ascii_lowercase)\n",
    "# iterate through all the words in the training set and increment the frequency\n",
    "# of the character by 1 every time we see the character\n",
    "for word in training_set:\n",
    "    for letter in list(word):\n",
    "        if letter in unigram_counts.keys():\n",
    "            unigram_counts[letter] += 1\n",
    "        else:\n",
    "            unigram_counts[letter] = 1\n",
    "\n",
    "# if there are characters in none of the words in the training set, give it a 0 frequency\n",
    "for char in alphabet_list:\n",
    "    if char not in unigram_counts.keys():\n",
    "        unigram_counts[char] = 0\n",
    "\n",
    "###\n",
    "# Your answer ENDS HERE\n",
    "###\n",
    "\n",
    "def unigram_guesser(mask, guessed, unigram_counts=unigram_counts):\n",
    "\n",
    "    ###\n",
    "    # Your answer BEGINS HERE\n",
    "    ###\n",
    "    # sort the dict based on the frequencies(prob) of characters\n",
    "    sorted_unigram_counts = dict(sorted(unigram_counts.items(), key=lambda item: item[1], reverse=True))\n",
    "    highest_prob_keys = list(sorted_unigram_counts.keys())\n",
    "    index = 0\n",
    "    # guess from the highest prob characters to the lowest, return if the current character not in guessed\n",
    "    while index < 26:\n",
    "        if highest_prob_keys[index] not in guessed:\n",
    "            return highest_prob_keys[index]\n",
    "        else:\n",
    "            index += 1\n",
    "    return False\n",
    "    ###\n",
    "    # Your answer ENDS HERE\n",
    "    ###\n",
    "\n",
    "result = test_guesser(unigram_guesser, test_set)\n",
    "print(\"Testing the unigram guesser using every word in test set\")\n",
    "print(\"Average number of incorrect guesses: \", result)"
   ]
  },
  {
   "cell_type": "markdown",
   "metadata": {},
   "source": [
    "<b>For your testing:</b>"
   ]
  },
  {
   "cell_type": "code",
   "execution_count": 32,
   "metadata": {},
   "outputs": [],
   "source": [
    "assert(result > 5 and result < 15)"
   ]
  },
  {
   "cell_type": "markdown",
   "metadata": {},
   "source": [
    "### Question 4\n",
    "\n",
    "**Instructions:** The length of the secret word is an important clue that we might exploit. Different lengths tend to have different distributions over characters, e.g., short words are less likely to have suffixes or prefixes. You should incorporate this idea by conditioning the unigram model on the length of the secret word, i.e.,  having a **different unigram model for each length**. You will need to be a little careful at test time, to be robust to the situation that you encounter a word length that you didn't see in training. In such a case, your method should behave like the previous `unigram_guesser` in Question 3 (i.e., it guesses characters based on unigram frequencies, unconditioned by the word length).\n",
    "\n",
    "**Task**: Collect the frequencies of characters conditioned on the word length and store them in `unigram_counts_by_length` (use the first answer space). Complete the `unigram_length_guesser` method (use the second answer space).\n",
    "\n",
    "**Check**: Use the assertion statements in <b>\"For your testing\"</b> below for the expected output."
   ]
  },
  {
   "cell_type": "code",
   "execution_count": 33,
   "metadata": {},
   "outputs": [
    {
     "name": "stdout",
     "output_type": "stream",
     "text": [
      "Testing the length-conditioned unigram guesser using every word in test set\n",
      "Average number of incorrect guesses:  10.337\n"
     ]
    }
   ],
   "source": [
    "unigram_counts_by_length = {} # dict, length of words are keys, lists of frequency dicts are values\n",
    "\n",
    "###\n",
    "# Your answer BEGINS HERE\n",
    "###\n",
    "word_lengths = list(set([len(word) for word in training_set]))\n",
    "# same logic as in question 3, except this case one more loop for different word length encountered\n",
    "# the frequency dicts for each length of words are computed\n",
    "for length in word_lengths:\n",
    "    freq_dict = dict.fromkeys(alphabet_list, 0)\n",
    "    for word in training_set:\n",
    "        if len(word) == length:\n",
    "            for char in list(word):\n",
    "                freq_dict[char] += 1\n",
    "    unigram_counts_by_length[length] = freq_dict\n",
    "\n",
    "###\n",
    "# Your answer ENDS HERE\n",
    "###\n",
    "\n",
    "def unigram_length_guesser(mask, guessed, unigram_counts_by_length=unigram_counts_by_length, unigram_counts=unigram_counts):\n",
    "    ###\n",
    "    # Your answer BEGINS HERE\n",
    "    ###\n",
    "    # if encounter a word length didn't see in the training set, behave like question 3\n",
    "    if len(mask) not in unigram_counts_by_length.keys():\n",
    "        guess = unigram_guesser(mask, guessed, unigram_counts)\n",
    "    else: # guess based on the corresponding frequency dict for this length seen in the training process\n",
    "        unigram_dict = unigram_counts_by_length[len(mask)]\n",
    "        sorted_unigram_counts = dict(sorted(unigram_dict.items(), key=lambda item: item[1], reverse=True))\n",
    "        high_prob_keys = list(sorted_unigram_counts.keys())\n",
    "        index = 0\n",
    "        # guess from the highest prob characters to the lowest, return if the current character not in guessed\n",
    "        while index < 26:\n",
    "            if high_prob_keys[index] not in guessed:\n",
    "                guess = high_prob_keys[index]\n",
    "                break\n",
    "            else:\n",
    "                index += 1\n",
    "    \n",
    "    return guess\n",
    "    ###\n",
    "    # Your answer ENDS HERE\n",
    "    ###\n",
    "\n",
    "result = test_guesser(unigram_length_guesser, test_set)\n",
    "print(\"Testing the length-conditioned unigram guesser using every word in test set\")\n",
    "print(\"Average number of incorrect guesses: \", result)"
   ]
  },
  {
   "cell_type": "markdown",
   "metadata": {},
   "source": [
    "<b>For your testing:</b>"
   ]
  },
  {
   "cell_type": "code",
   "execution_count": 34,
   "metadata": {},
   "outputs": [],
   "source": [
    "assert(result > 5 and result < 15)"
   ]
  },
  {
   "cell_type": "markdown",
   "metadata": {},
   "source": [
    "### Question 5\n",
    "\n",
    "**Instructions:** Now for the next challenge, you'll build a **bigram language model** over characters. The order of characters is obviously important, yet this wasn't incorporated in any of the above models. Knowing that the word has the sequence `n _ s s` is a pretty strong clue that the missing character might be `e`. Similarly the distribution over characters that start or end a word are highly biased (e.g., toward common prefixes and suffixes, like *un-*, *-ed* and *-ly*).\n",
    "\n",
    "The task here is to develop a bigram language model over characters, and train it over the training words. Remember to be careful when handling the start of each word properly, e.g., by padding with a special starting symbol such as `$`. Do we also need a special ending symbol? That's for you to decide.\n",
    "\n",
    "Your bigram guesser should apply your language model to each blank position in the secret word by using its left context character. For example, in the partial word `e _ c _ b _ _` we know the left context for the first three blanks, but have no known left context for the last blank. In the case for the last blank, you should revert to using a unigram language model (since there's no context for us to use the bigram model). You should sum up the probability distribution (over all alphabets from <i>a</i> to <i>z</i>) for the 4 blanks, and select the alphabet with the highest probability that hasn't been guessed.\n",
    "\n",
    "**Note**:\n",
    "- When backing-off to the unigram language model, you **must use the vanilla unigram language model that you have built in Q3**. Do not use the length-based unigram language model, or any fancy variant, or you will lose marks.\n",
    "- You should build a **standard bigram language model**; i.e. do not do anything complicated like a bidirectional bigram language model.\n",
    "\n",
    "**Task**: Collect frequency counts that are necessary for building a bigram language model and store them in bigram_counts; feel free to add new objects if needed (use the first answer space). Complete the `bigram_guesser` method (use the second answer space). Note that the method currently only has one additional argument (`bigram_counts`), but you are free to add additional arguments."
   ]
  },
  {
   "cell_type": "code",
   "execution_count": 35,
   "metadata": {},
   "outputs": [
    {
     "name": "stdout",
     "output_type": "stream",
     "text": [
      "Testing the bigram guesser using every word in test set\n",
      "Average number of incorrect guesses:  8.59\n"
     ]
    }
   ],
   "source": [
    "bigram_counts = {}\n",
    "\n",
    "###\n",
    "# Your answer BEGINS HERE\n",
    "###\n",
    "copied_alphabet_list = list(string.ascii_lowercase)\n",
    "copied_alphabet_list.append('.')\n",
    "all_bigrams = [x + y for x in copied_alphabet_list for y in copied_alphabet_list]\n",
    "# all the combination of bigrams from the alphabet, plus a '.' representing the start or the end of the word\n",
    "# even though the end character isn't necessary here \n",
    "bigram_counts = dict.fromkeys(all_bigrams, 0)\n",
    "\n",
    "# accumulate the bigram frequencies for each word\n",
    "for word in training_set:\n",
    "    word = \".\" + word + \".\"\n",
    "    bigrams = [word[i:i+2] for i in range(len(word) - 1)]\n",
    "    for bigram in bigrams:\n",
    "        bigram_counts[bigram] += 1\n",
    "\n",
    "### \n",
    "# Your answer ENDS HERE\n",
    "###\n",
    "    \n",
    "# smoothing not considered in this question, could be the case where there are unseen biagrams\n",
    "def bigram_guesser(mask, guessed, bigram_counts=bigram_counts): # add extra arguments if needed\n",
    "    ###\n",
    "    # Your answer BEGINS HERE\n",
    "    ###\n",
    "    prob_dict = dict.fromkeys(alphabet_list, 0)\n",
    "    for index, char in enumerate(mask):\n",
    "        if char == '_':\n",
    "            # case 1: blank at the beginning of the masked word; apply bigram model with the starting symbol\n",
    "            if index - 1 == -1:\n",
    "                for alphabet in alphabet_list:\n",
    "                    bigram = \".\" + alphabet\n",
    "                    # divided by the length of the training set as the starting symbol occurs the same times\n",
    "                    # as the number of words in the corpus\n",
    "                    prob_dict[alphabet] += bigram_counts[bigram] / float(len(training_set))\n",
    "            # case 2: no left context for a certain blank, apply unigram model\n",
    "            elif mask[index - 1] == \"_\":\n",
    "                for alphabet in alphabet_list:\n",
    "                    prob_dict[alphabet] += unigram_counts[alphabet] / float(sum(unigram_counts.values()))\n",
    "            # case 3: left context exists at the middle of the word (not starting), apply normal bigram model\n",
    "            else:\n",
    "                for alphabet in alphabet_list:\n",
    "                    bigram = mask[index - 1] + alphabet\n",
    "                    prob_dict[alphabet] += bigram_counts[bigram] / float(unigram_counts[mask[index - 1]])\n",
    "    # same logic as the previous questions, give guesses based on the probabilities\n",
    "    sorted_prob_dict = dict(sorted(prob_dict.items(), key=lambda item: item[1], reverse=True))\n",
    "    possible_chars = list(sorted_prob_dict.keys())\n",
    "    index = 0\n",
    "    while index < 26:\n",
    "        if possible_chars[index] not in guessed:\n",
    "            return possible_chars[index]\n",
    "        else:\n",
    "            index += 1\n",
    "    return False\n",
    "    ###\n",
    "    # Your answer ENDS HERE\n",
    "    ###\n",
    "\n",
    "\n",
    "\n",
    "result = test_guesser(bigram_guesser, test_set)\n",
    "print(\"Testing the bigram guesser using every word in test set\")\n",
    "print(\"Average number of incorrect guesses: \", result)"
   ]
  },
  {
   "cell_type": "markdown",
   "metadata": {},
   "source": [
    "### Question 6 \n",
    "\n",
    "**Instructions:** You should try to develop a more effective AI for hangman. Feel free to engage your creativity here! Possibilities include better conditioning on the length of the word, fancier smoothing methods, ngram models and bidirectional models (lecture 8). Have fun!\n",
    "\n",
    "Note:\n",
    "* When testing your AI model's performance, you may want to consider trying different training/test splits (using different seeds) to have a better understanding of its _average_ performance, as there will be some variance to its performance depending on the training/test split.\n",
    "* Your code must run under 2 minutes on Codalab; program that runs longer than that will be terminated and you will score 0.\n",
    "\n",
    "**Task** Complete the `my_amazing_ai_guesser` method, which implements a better language model for hangman."
   ]
  },
  {
   "cell_type": "code",
   "execution_count": 48,
   "metadata": {},
   "outputs": [],
   "source": [
    "# initilise the frequency dict\n",
    "trigram_counts = {}\n",
    "all_trigrams = [x + y + z for x in copied_alphabet_list for y in copied_alphabet_list for z in copied_alphabet_list]\n",
    "trigram_counts = dict.fromkeys(all_trigrams, 0)\n",
    "\n",
    "# accumulate the trigram frequencies for each word\n",
    "for word in training_set:\n",
    "    word = \"..\" + word + \"..\"\n",
    "    trigrams = [word[i:i+3] for i in range(len(word) - 2)]\n",
    "    for trigram in trigrams:\n",
    "        trigram_counts[trigram] += 1"
   ]
  },
  {
   "cell_type": "code",
   "execution_count": 37,
   "metadata": {},
   "outputs": [],
   "source": [
    "def get_prob_addk(numerator, denominator, k):\n",
    "    numerator += k\n",
    "    denominator += k*27\n",
    "    return numerator / float(denominator)"
   ]
  },
  {
   "cell_type": "code",
   "execution_count": 38,
   "metadata": {},
   "outputs": [],
   "source": [
    "# this function is used to do trigram modelling(likelihood based on left context) of the masked word\n",
    "def trigram_guesser(mask):\n",
    "    prob_dict = dict.fromkeys(alphabet_list, 0)\n",
    "    for index, char in enumerate(mask):\n",
    "        if char == '_':\n",
    "            # case 1: first character is blank, apply trigram\n",
    "            if index == 0:\n",
    "                for alphabet in alphabet_list:\n",
    "                    trigram = \"..\" + alphabet\n",
    "                    prob_dict[alphabet] += get_prob_addk(trigram_counts[trigram], len(training_set), 0.05)\n",
    "            elif index == 1:\n",
    "                if mask[0] != '_': # case 2: \".a_\", apply trigram\n",
    "                    for alphabet in alphabet_list:\n",
    "                        trigram = \".\" + mask[0] + alphabet\n",
    "                        prob_dict[alphabet] += get_prob_addk(trigram_counts[trigram], bigram_counts[\".\" + mask[0]], 0.05)\n",
    "                else: # case 3: \".__\", apply unigram, no left context\n",
    "                    for alphabet in alphabet_list:\n",
    "                        prob_dict[alphabet] += get_prob_addk(unigram_counts[alphabet], sum(unigram_counts.values()), 0.05)\n",
    "            else:\n",
    "                if mask[index - 1] != '_' and mask[index - 2] != '_': # case 4: \"aa_\", trigram\n",
    "                    for alphabet in alphabet_list:\n",
    "                        trigram = mask[index - 2] + mask[index - 1] + alphabet\n",
    "                        prob_dict[alphabet] += get_prob_addk(trigram_counts[trigram], bigram_counts[mask[index - 2] + mask[index - 1]], 0.05)\n",
    "                elif mask[index - 1] != '_' and mask[index - 2] == '_': # case 5: \"_a_\", biagram as only on left context\n",
    "                    for alphabet in alphabet_list:\n",
    "                        bigram = mask[index - 1] + alphabet\n",
    "                        prob_dict[alphabet] += get_prob_addk(bigram_counts[bigram], unigram_counts[mask[index - 1]], 0.05)\n",
    "                else: # case 6: \"a__\" or \"___\", both can only apply unigram\n",
    "                    for alphabet in alphabet_list:\n",
    "                        prob_dict[alphabet] += get_prob_addk(unigram_counts[alphabet], sum(unigram_counts.values()), 0.05)\n",
    "    return prob_dict"
   ]
  },
  {
   "cell_type": "code",
   "execution_count": 39,
   "metadata": {},
   "outputs": [],
   "source": [
    "# this function is used to do trigram modelling in reverse direction(likelihood based on right context) of the masked word\n",
    "def trigram_guesser_reverse(mask):\n",
    "    prob_dict = dict.fromkeys(alphabet_list, 0)\n",
    "    reverse_mask = list(reversed(mask))\n",
    "    for index, char in enumerate(reverse_mask):\n",
    "        if char == '_':\n",
    "            # case 1: the last character is blank, apply trigram\n",
    "            if index == 0: # note that this is actually the last character in mask\n",
    "                for alphabet in alphabet_list:\n",
    "                    trigram = alphabet + \"..\"\n",
    "                    prob_dict[alphabet] += get_prob_addk(trigram_counts[trigram], len(training_set), 0.05)\n",
    "            elif index == 1: \n",
    "                if reverse_mask[0] == '_': # case 2: \"__.\", apply unigram here since no right context\n",
    "                    for alphabet in alphabet_list:\n",
    "                        prob_dict[alphabet] += get_prob_addk(unigram_counts[alphabet], sum(unigram_counts.values()), 0.05)\n",
    "                else: # case 3: \"_a.\", apply biagram here since only 1 right context is given\n",
    "                    for alphabet in alphabet_list:\n",
    "                        trigram = alphabet + reverse_mask[0] + \".\"\n",
    "                        prob_dict[alphabet] += get_prob_addk(trigram_counts[trigram], bigram_counts[reverse_mask[0] + \".\"], 0.05)\n",
    "            else:\n",
    "                # case 4: \"_aa\", trigram, all the right contexts are given\n",
    "                if reverse_mask[index - 1] != '_' and reverse_mask[index - 2] != '_':\n",
    "                    for alphabet in alphabet_list:\n",
    "                        trigram = alphabet + reverse_mask[index - 1] + reverse_mask[index - 2]\n",
    "                        prob_dict[alphabet] += get_prob_addk(trigram_counts[trigram], bigram_counts[reverse_mask[index - 1] + reverse_mask[index - 2]], 0.05)\n",
    "                # case 5: \"_a_\", bigram, 1 right context given\n",
    "                elif reverse_mask[index - 1] != '_' and reverse_mask[index - 2] == '_':\n",
    "                    for alphabet in alphabet_list:\n",
    "                        bigram = alphabet + reverse_mask[index - 1]\n",
    "                        prob_dict[alphabet] += get_prob_addk(bigram_counts[bigram], unigram_counts[reverse_mask[index - 1]], 0.05)\n",
    "                else: # case 6: \"__a\" or \"___\", no neighbour right context (blank), unigram only\n",
    "                    for alphabet in alphabet_list:\n",
    "                        prob_dict[alphabet] += get_prob_addk(unigram_counts[alphabet], sum(unigram_counts.values()), 0.05)\n",
    "    return prob_dict"
   ]
  },
  {
   "cell_type": "code",
   "execution_count": 49,
   "metadata": {},
   "outputs": [
    {
     "name": "stdout",
     "output_type": "stream",
     "text": [
      "Testing my amazing AI guesser using every word in test set\n",
      "Average number of incorrect guesses:  7.402\n"
     ]
    }
   ],
   "source": [
    "###\n",
    "# Your answer BEGINS HERE\n",
    "###\n",
    "\n",
    "# recurrent nn could definitely do better, if have time, will implement that\n",
    "def my_amazing_ai_guesser(mask, guessed):\n",
    "    # bidirectional trigram language model, combine the results (left context and right context) \n",
    "    # together to make the guess\n",
    "    prob_dict1 = trigram_guesser(mask)\n",
    "    prob_dict2 = trigram_guesser_reverse(mask)\n",
    "    combined_dict = {key: prob_dict1[key] + prob_dict2[key] for key in prob_dict1}\n",
    "    # sort the dict so that guess the alphabet from the highest prob to the lowest prob\n",
    "    sorted_prob_dict = dict(sorted(combined_dict.items(), key=lambda item: item[1], reverse=True))\n",
    "    possible_chars = list(sorted_prob_dict.keys())\n",
    "    index = 0\n",
    "    while index < 26:\n",
    "        # if not in guessed, that would be the answer\n",
    "        if possible_chars[index] not in guessed:\n",
    "            return possible_chars[index]\n",
    "        else:\n",
    "            index += 1\n",
    "    return False\n",
    "\n",
    "###\n",
    "# Your answer ENDS HERE\n",
    "###\n",
    "\n",
    "result = test_guesser(my_amazing_ai_guesser, test_set)\n",
    "print(\"Testing my amazing AI guesser using every word in test set\")\n",
    "print(\"Average number of incorrect guesses: \", result)"
   ]
  },
  {
   "cell_type": "markdown",
   "metadata": {},
   "source": [
    "### Question 7\n",
    "\n",
    "**Instructions:** Explain your approach and discuss your result below."
   ]
  },
  {
   "cell_type": "markdown",
   "metadata": {},
   "source": [
    "##### Your answer BEGINS HERE\n",
    "The AI guesser is based on bidirectional trigram language model, with computing a prob_dict for alphabets from left context, and a prob_dict for alphabets from right context. Simle add k smoothing is used to deal with unseen grams in the training set, no fancier smoothing methods are used as the performance is already good enough. 10 different seeds are used to test the average performance of the language model and the average number of incorrect guesses for model trained under 10 different seeds is 7.4774. It's also worth noting that no neural network is implemented, so the running time is really fast and will not exeed the time limit.\n",
    "\n",
    "\n",
    "##### Your answer ENDS HERE"
   ]
  },
  {
   "cell_type": "code",
   "execution_count": null,
   "metadata": {},
   "outputs": [],
   "source": []
  }
 ],
 "metadata": {
  "anaconda-cloud": {},
  "kernelspec": {
   "display_name": "Python 3 (ipykernel)",
   "language": "python",
   "name": "python3"
  },
  "language_info": {
   "codemirror_mode": {
    "name": "ipython",
    "version": 3
   },
   "file_extension": ".py",
   "mimetype": "text/x-python",
   "name": "python",
   "nbconvert_exporter": "python",
   "pygments_lexer": "ipython3",
   "version": "3.11.5"
  }
 },
 "nbformat": 4,
 "nbformat_minor": 4
}
